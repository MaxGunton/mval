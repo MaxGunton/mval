{
 "cells": [
  {
   "cell_type": "code",
   "execution_count": 1,
   "metadata": {},
   "outputs": [],
   "source": [
    "#hide\n",
    "from mval.core import *"
   ]
  },
  {
   "cell_type": "markdown",
   "metadata": {},
   "source": [
    "# mval\n",
    "\n",
    "> We all hate errors and debugging!  Save time debugging by ***FAILING FAST*** and having ***SINGLE SOURCE*** using this \n",
    "simple package for validating your inputs, parameters, etc. and copying docstrings.  "
   ]
  },
  {
   "cell_type": "markdown",
   "metadata": {},
   "source": [
    "`core.validate_param`: check user passed variables to ensure they meet set of requirements. (FAST FAIL idealogy)\n",
    "`core.documented_by`: copy docstring a function, intended for wrapper functions and decorators. (SINGLE SOURCE idealogy)"
   ]
  },
  {
   "cell_type": "markdown",
   "metadata": {},
   "source": [
    "## Install"
   ]
  },
  {
   "cell_type": "markdown",
   "metadata": {},
   "source": [
    "`pip install git+https://github.com/MaxGunton/mval.git`"
   ]
  },
  {
   "cell_type": "markdown",
   "metadata": {},
   "source": [
    "## How to use"
   ]
  },
  {
   "cell_type": "markdown",
   "metadata": {},
   "source": [
    "Assume we want to get some user input, and it needs to be a color represented by a tuple of 3 integers ranging from 0 to 255 inclusive.  We could write a function to do this that raises an exception if the value is bad, but it's been done for you!\n",
    "\n",
    "**For example:**"
   ]
  },
  {
   "cell_type": "code",
   "execution_count": 2,
   "metadata": {},
   "outputs": [],
   "source": [
    "from mval import validate_param  # validation function\n",
    "from typing import Tuple, Union, List  # for dictating nested types\n",
    "\n",
    "# below are a series of possible user inputs some good and some bad\n",
    "good_color = (123, 234, 25)\n",
    "bad_type_in_color = (28, \"hello\", 34)\n",
    "bad_value_in_color = (28738, 75, 34)\n",
    "good_color2 = (00000000, 43, 23)\n",
    "\n",
    "# lets define a functional restriction that returns True if all iteratible values are [0,255] and false otherwise\n",
    "color_restriction = lambda x: all([True if 0<=i<=255 else False for i in x])"
   ]
  },
  {
   "cell_type": "code",
   "execution_count": 3,
   "metadata": {},
   "outputs": [
    {
     "data": {
      "text/plain": [
       "(123, 234, 25)"
      ]
     },
     "execution_count": 3,
     "metadata": {},
     "output_type": "execute_result"
    }
   ],
   "source": [
    "# This one should pass and return the original value\n",
    "validate_param(good_color, Tuple[int, int, int], \"color\", color_restriction)"
   ]
  },
  {
   "cell_type": "code",
   "execution_count": 4,
   "metadata": {},
   "outputs": [
    {
     "name": "stdout",
     "output_type": "stream",
     "text": [
      "color expected type typing.Tuple[int, int, int], but received (28, 'hello', 34) of type <class 'tuple'>\n"
     ]
    }
   ],
   "source": [
    "# This one should fail because there is a bad type in the parameter.  This will raise an exception that we can understand\n",
    "try:\n",
    "    validate_param(bad_type_in_color, Tuple[int, int, int], \"color\", color_restriction)\n",
    "except TypeError as error:\n",
    "    print(error)"
   ]
  },
  {
   "cell_type": "code",
   "execution_count": 6,
   "metadata": {},
   "outputs": [
    {
     "name": "stdout",
     "output_type": "stream",
     "text": [
      "(28738, 75, 34) doesn't meet the restrictions enforced by function: <function <lambda> at 0x000001CE7F36D620>\n"
     ]
    }
   ],
   "source": [
    "# Again this one should fail, but because a value in the Tuple is out of range.\n",
    "try:\n",
    "    validate_param(bad_value_in_color, Tuple[int, int, int], \"color\", color_restriction)\n",
    "except ValueError as error:\n",
    "    print(error)"
   ]
  },
  {
   "cell_type": "code",
   "execution_count": 7,
   "metadata": {},
   "outputs": [
    {
     "data": {
      "text/plain": [
       "(0, 43, 23)"
      ]
     },
     "execution_count": 7,
     "metadata": {},
     "output_type": "execute_result"
    }
   ],
   "source": [
    "# This one should pass and return the original value even though it had many leading 0's\n",
    "validate_param(good_color2, Tuple[int, int, int], \"color\", color_restriction)"
   ]
  },
  {
   "cell_type": "markdown",
   "metadata": {},
   "source": [
    "#hide\n",
    "## TODO\n",
    "1. Add write up on bounds expression  \n",
    "    `( means greater than` ***AND*** `[ means greater than or equal to`\n",
    "    \n",
    "    `) means less than` ***AND***  `] means less than or equal to`\n",
    "2. Add write up on how to define functions"
   ]
  }
 ],
 "metadata": {
  "kernelspec": {
   "display_name": "Python 3",
   "language": "python",
   "name": "python3"
  },
  "language_info": {
   "codemirror_mode": {
    "name": "ipython",
    "version": 3
   },
   "file_extension": ".py",
   "mimetype": "text/x-python",
   "name": "python",
   "nbconvert_exporter": "python",
   "pygments_lexer": "ipython3",
   "version": "3.6.13"
  },
  "toc": {
   "base_numbering": 1,
   "nav_menu": {},
   "number_sections": true,
   "sideBar": true,
   "skip_h1_title": false,
   "title_cell": "Table of Contents",
   "title_sidebar": "Contents",
   "toc_cell": false,
   "toc_position": {},
   "toc_section_display": true,
   "toc_window_display": false
  }
 },
 "nbformat": 4,
 "nbformat_minor": 2
}
