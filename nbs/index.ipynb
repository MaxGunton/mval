{
 "cells": [
  {
   "cell_type": "code",
   "execution_count": null,
   "metadata": {},
   "outputs": [],
   "source": [
    "#hide\n",
    "from mval.core import *"
   ]
  },
  {
   "cell_type": "markdown",
   "metadata": {},
   "source": [
    "# mval\n",
    "\n",
    "> We all hate errors and debugging!  Save time debugging by using this simple package for validating your inputs, parameters, etc."
   ]
  },
  {
   "cell_type": "markdown",
   "metadata": {},
   "source": [
    "Use the validate_param function to speed up code development.  "
   ]
  },
  {
   "cell_type": "markdown",
   "metadata": {},
   "source": [
    "## Install"
   ]
  },
  {
   "cell_type": "markdown",
   "metadata": {},
   "source": [
    "`pip install git+https://github.com/MaxGunton/mval.git`"
   ]
  },
  {
   "cell_type": "markdown",
   "metadata": {},
   "source": [
    "## How to use"
   ]
  },
  {
   "cell_type": "code",
   "execution_count": null,
   "metadata": {},
   "outputs": [],
   "source": [
    "from mval import validate_param\n",
    "from typing import Tuple\n",
    "\n",
    "good_color = (123, 234, 25)\n",
    "bad_type_in_color = (28, \"hello\", 34)\n",
    "bad_value_in_color = (28738, 75, 34)\n",
    "good_color2 = (00000000, 43, 23)\n",
    "\n",
    "def rgb_restr(x):\n",
    "    try:\n",
    "        validate_param(x[0], int, \"color[0]\", \"[0,255]\")\n",
    "        validate_param(x[1], int, \"color[0]\", \"[0,255]\")\n",
    "        validate_param(x[2], int, \"color[0]\", \"[0,255]\")\n",
    "    except ValueError as error:\n",
    "        return False\n",
    "    return True"
   ]
  },
  {
   "cell_type": "code",
   "execution_count": null,
   "metadata": {},
   "outputs": [
    {
     "data": {
      "text/plain": [
       "(123, 234, 25)"
      ]
     },
     "execution_count": null,
     "metadata": {},
     "output_type": "execute_result"
    }
   ],
   "source": [
    "validate_param(good_color, Tuple[int, int, int], \"color\", p_restrictions=rgb_restr)"
   ]
  },
  {
   "cell_type": "code",
   "execution_count": null,
   "metadata": {},
   "outputs": [
    {
     "name": "stdout",
     "output_type": "stream",
     "text": [
      "color expected type typing.Tuple[int, int, int], but received (28, 'hello', 34) of type <class 'tuple'>\n"
     ]
    }
   ],
   "source": [
    "try:\n",
    "    validate_param(bad_type_in_color, Tuple[int, int, int], \"color\", p_restrictions=rgb_restr)\n",
    "except TypeError as error:\n",
    "    print(error)"
   ]
  },
  {
   "cell_type": "code",
   "execution_count": null,
   "metadata": {},
   "outputs": [
    {
     "name": "stdout",
     "output_type": "stream",
     "text": [
      "(28738, 75, 34) doesn't meet the restrictions enforced by function: <function rgb_restr at 0x7f79d72a5dd0>\n"
     ]
    }
   ],
   "source": [
    "try:\n",
    "    validate_param(bad_value_in_color, Tuple[int, int, int], \"color\", p_restrictions=rgb_restr)\n",
    "except ValueError as error:\n",
    "    print(error)"
   ]
  },
  {
   "cell_type": "code",
   "execution_count": null,
   "metadata": {},
   "outputs": [
    {
     "data": {
      "text/plain": [
       "(0, 43, 23)"
      ]
     },
     "execution_count": null,
     "metadata": {},
     "output_type": "execute_result"
    }
   ],
   "source": [
    "validate_param(good_color2, Tuple[int, int, int], \"color\", p_restrictions=rgb_restr)"
   ]
  },
  {
   "cell_type": "markdown",
   "metadata": {},
   "source": [
    "## TODO"
   ]
  },
  {
   "cell_type": "markdown",
   "metadata": {},
   "source": [
    "1. Add write up on bounds expression  \n",
    "    `( means greater than` ***AND*** `[ means greater than or equal to`\n",
    "    \n",
    "    `) means less than` ***AND***  `] means less than or equal to`\n",
    "2. Add write up on how to define functions"
   ]
  },
  {
   "cell_type": "code",
   "execution_count": null,
   "metadata": {},
   "outputs": [],
   "source": []
  }
 ],
 "metadata": {
  "kernelspec": {
   "display_name": "Python 3 (ipykernel)",
   "language": "python",
   "name": "python3"
  }
 },
 "nbformat": 4,
 "nbformat_minor": 2
}
