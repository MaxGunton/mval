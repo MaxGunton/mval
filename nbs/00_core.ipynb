{
 "cells": [
  {
   "cell_type": "code",
   "execution_count": null,
   "metadata": {},
   "outputs": [],
   "source": [
    "# default_exp core"
   ]
  },
  {
   "cell_type": "markdown",
   "metadata": {},
   "source": [
    "# core\n",
    "\n",
    "> A small package with this one module, that will save you time writing validation code.  "
   ]
  },
  {
   "cell_type": "markdown",
   "metadata": {},
   "source": [
    "TODO: Write more in here\n",
    "\n",
    "Package only has the logic to deal with primative types and List, Tuple, Dict, and Union.  \n",
    "This\n",
    "\n",
    "---\n",
    "**NOTES:**\n",
    "\n",
    "This package comes with no warrenty and no garantees, it may or may not \n",
    "\n",
    "---\n",
    "**LIMITATIONS**\n",
    "1) \n",
    "1) Only support Tuple definitions of fixed size\n",
    "\n",
    ">`ex. Tuple[int, float, str] and not Tuple[int, ...]`"
   ]
  },
  {
   "cell_type": "code",
   "execution_count": null,
   "metadata": {},
   "outputs": [],
   "source": [
    "#hide\n",
    "from nbdev.showdoc import *"
   ]
  },
  {
   "cell_type": "code",
   "execution_count": null,
   "metadata": {},
   "outputs": [],
   "source": [
    "#export\n",
    "from inspect import getmodule\n",
    "from typing import List, Tuple, Dict, Union, TypeVar, Callable\n",
    "import os"
   ]
  },
  {
   "cell_type": "markdown",
   "metadata": {},
   "source": [
    "## Type Check"
   ]
  },
  {
   "cell_type": "code",
   "execution_count": null,
   "metadata": {},
   "outputs": [],
   "source": [
    "#export\n",
    "\n",
    "# TODO: Make better exception messages that show the level where things went wrong\n",
    "# TODO: Look into making custom exceptions\n",
    "\n",
    "def validate_type(p, p_type):  # subclasses always ok for now    \n",
    "    if (getmodule(p_type).__name__ == \"typing\") and (p_type is not TypeVar):\n",
    "        # TypeVar doesn't have .__origin__\n",
    "        parent_type = p_type.__origin__  # (Union, List, Tuple, Dict)\n",
    "        \n",
    "        if parent_type is tuple:\n",
    "            if not issubclass(type(p), parent_type):\n",
    "                raise TypeError(\"expected type {}, but received {}\".format(p_type, type(p)))\n",
    "            inner_types = p_type.__args__\n",
    "            if len(inner_types) != len(p):\n",
    "                raise ValueError((\"tuple expected {} elements, but \" +\n",
    "                                  \"received {}\").format(len(inner_types), len(p)))\n",
    "            for idx, child in enumerate(p):\n",
    "                validate_type(child, inner_types[idx])\n",
    "                \n",
    "        if parent_type is list:\n",
    "            if not issubclass(type(p), parent_type):\n",
    "                raise TypeError(\"expected type {}, but received {}\".format(p_type, type(p)))\n",
    "            inner_type = p_type.__args__[0]\n",
    "            for child in p:\n",
    "                validate_type(child, inner_type)\n",
    "        \n",
    "        if parent_type is dict:\n",
    "            if not issubclass(type(p), parent_type):\n",
    "                raise TypeError(\"expected type {}, but received {}\".format(p_type, type(p)))\n",
    "            key_type, value_type = p_type.__args__\n",
    "            for key in p:\n",
    "                validate_type(key, key_type)\n",
    "                validate_type(p[key], value_type)\n",
    "            \n",
    "        if parent_type is Union:\n",
    "            allowed_types = p_type.__args__\n",
    "            for allowed_type in allowed_types:\n",
    "                this_type = allowed_type.__origin__ if (getmodule(allowed_type).__name__ == \"typing\") else \\\n",
    "                    allowed_type\n",
    "                if issubclass(type(p), this_type):\n",
    "                    validate_type(p, allowed_type)\n",
    "                    break\n",
    "            else:\n",
    "                raise TypeError((\"expected one of the following types {}, \" +\n",
    "                                 \"but received {}\").format(allowed_types, type(p)))\n",
    "                \n",
    "              \n",
    "    if (getmodule(p_type).__name__ == \"builtins\") and not issubclass(type(p), p_type):\n",
    "        raise TypeError(\"expected type {}, but received {}\".format(p_type, type(p)))\n",
    "#     print(\"Good type\")\n",
    "        "
   ]
  },
  {
   "cell_type": "code",
   "execution_count": null,
   "metadata": {},
   "outputs": [],
   "source": [
    "#export\n",
    "def validate(p, p_type, p_name:str, p_restriction:Callable=None):  # subclasses always ok for now\n",
    "    # 1) check type\n",
    "    try:\n",
    "        validate_type(p, p_type)\n",
    "    except TypeError as error:\n",
    "        raise TypeError(\"{} expected type {}, but received {}\".format(p_name, p_type, p)) from error\n",
    "    \n",
    "    if p_restriction is not None:\n",
    "        if not p_restriction(p):\n",
    "            raise ValueError(\"{} does not meet the restrictions enforced by {}\".format(p, p_restriction))\n",
    "\n",
    "    return p"
   ]
  },
  {
   "cell_type": "markdown",
   "metadata": {},
   "source": [
    "List, Union, Tuple, Any"
   ]
  },
  {
   "cell_type": "code",
   "execution_count": null,
   "metadata": {},
   "outputs": [],
   "source": [
    "d = validate([(\"1\", 2),(\"hey\", 2)], List[Tuple[str, int]], \"mylist\")"
   ]
  },
  {
   "cell_type": "markdown",
   "metadata": {},
   "source": [
    "## Common Restrictions"
   ]
  },
  {
   "cell_type": "code",
   "execution_count": null,
   "metadata": {},
   "outputs": [],
   "source": [
    "# import os\n",
    "# os.path.isfile(p)\n",
    "# os.path.isdir(p)\n",
    "# os.path."
   ]
  },
  {
   "cell_type": "markdown",
   "metadata": {},
   "source": [
    "is a file\n",
    "  -> parent exists\n",
    "  -> exists\n",
    "  -> doesn't exists\n",
    "  -> \n",
    "  \n",
    "is a directory\n",
    "  -> exists\n",
    "  -> doesn't exist\n",
    "  -> contains a file with specific extension\n",
    "  -> parent exists\n",
    "  -> \n",
    "  \n",
    "is a tuple with values\n",
    "\n",
    "base values\n",
    "\n",
    "value(s) have no restrictions = None\n",
    "value(s) fall within a range = '(2,100]'\n",
    "value(s) fall within a set = {}\n",
    "\n",
    "value(s) are directories (with above options)\n",
    "value(s) are files (with above options)\n",
    "\n",
    "more complicated restrictions can use a function\n",
    "value(s) evaluate function to True\n",
    "  "
   ]
  }
 ],
 "metadata": {
  "kernelspec": {
   "display_name": "Python 3 (ipykernel)",
   "language": "python",
   "name": "python3"
  }
 },
 "nbformat": 4,
 "nbformat_minor": 2
}
